{
 "cells": [
  {
   "cell_type": "markdown",
   "id": "e8ef782e-6d28-412b-a32c-b425fa9dff7f",
   "metadata": {},
   "source": [
    "Theory Questions:-"
   ]
  },
  {
   "cell_type": "markdown",
   "id": "68b16f92-caf8-435c-9387-e6a30ec77f0f",
   "metadata": {},
   "source": [
    "#1. What is the difference between a function and a method in Python?\n",
    "   -> Function: A function is a block of code that is defined and called independently. It is not associated with any object or class,                       though it can be passed arguments and return values.Function defined inside any class, can be global or local.It can be                      called directly by its name.Defined using the def keyword.\n",
    "      Example: # Defining a simple function\n",
    "                    def add(x, y):\n",
    "                        return x + y\n",
    "                    result = add(5, 3)\n",
    "                    print(result)  # Output: 8\n",
    "     Method: A method is a function that is defined within a class and is bound to an object (instance) or class. Methods operate on the                  instance's data (attributes) or the class itself.The first argument of a method is usually self (for instance methods), which                refers to the instance calling the method.\n",
    "     Example: # Defining a class with a method\n",
    "                    class Calculator:\n",
    "                        def add(self, x, y):\n",
    "                            return x + y\n",
    "                    calc = Calculator()\n",
    "                    result = calc.add(5, 3)\n",
    "                    print(result)  # Output: 8\n"
   ]
  },
  {
   "cell_type": "markdown",
   "id": "8850e419-c6f3-46e2-9c21-bdd6110a973b",
   "metadata": {},
   "source": [
    "#2. Explain the concept of function arguments and parameters in Python.\n",
    "    -> Function Arguments: An argument is the actual value or expression that you provide when calling the function. The arguments are                                  passed to the function and are assigned to the corresponding parameters in the function definition.\n",
    "       Function Parameters: A parameter is a variable in the function definition that specifies what kind of data the function expects to                                receive when it is called. Parameters act as placeholders for the values (arguments) that will be passed to the                              function.\n",
    "       Example: # Function definition with parameters\n",
    "                    def greet(name, age):\n",
    "                        print(f\"Hello {name}, you are {age} years old.\")\n",
    "                #Calling the function with arguments\n",
    "                 greet(\"Alice\",30)"
   ]
  },
  {
   "cell_type": "markdown",
   "id": "6040c6c9-099c-4723-a52d-ae85c3675e0e",
   "metadata": {},
   "source": [
    "#3. What are the different ways to define and call a function in Python?\n",
    "    -> In Python, there are several ways to define and call functions:\n",
    "       1.Calling a Function:Once a function is defined, you call it by using its name followed by parentheses, passing the required                                      arguments (if any).\n",
    "           Example: result = greet(\"Bob\")\n",
    "                    print(result)  # Output: Hello, Bob!\n",
    "       2.Defining a Basic Function:A basic function is defined using the def keyword, followed by the function name and parentheses. The                                        body of the function is indented.\n",
    "         Example: def greet(name):\n",
    "                    return f\"Hello, {name}!\"\n",
    "                   print(greet(\"Alice\")) \n",
    "       3.Function with Default Arguments:Functions can have default arguments, meaning if no value is passed for a parameter, the default                                             value will be used.        \n",
    "                Example: def greet(name, greeting=\"Hello\"):\n",
    "                            return f\"{greeting}, {name}!\"    \n",
    "                        print(greet(\"Alice\"))            # Uses default greeting\n",
    "                        print(greet(\"Bob\", \"Hi\"))        # Uses custom greeting\n",
    "        4. Lambda Functions (Anonymous Functions):Lambda functions are small anonymous functions defined using the lambda keyword. They can                                                    have any number of arguments but only one expression.\n",
    "             Example: multiply = lambda x, y: x * y\n",
    "                      print(multiply(2, 3))  # Output: 6\n",
    "        5. Nested Functions:Functions can be defined inside other functions, allowing for more complex logic.\n",
    "             Example: def outer_function():\n",
    "                        def inner_function():\n",
    "                            return \"I am inside!\"\n",
    "                        return inner_function()\n",
    "                    print(outer_function())  # Output: I am inside!\n",
    "         6.Function as an Argument (Higher-Order Functions):Functions in Python can accept other functions as arguments. This is known as a                                                              higher-order function.\n",
    "              Example: def apply_function(f, x):\n",
    "                            return f(x)\n",
    "                       def square(x):\n",
    "                            return x ** 2\n",
    "                        result = apply_function(square, 4)  # Output: 16\n",
    "                        print(result)\n",
    "         7.Recursion (Calling a Function from Itself):A function can call itself, which is called recursion. It's important to have a base                                                         case to avoid infinite recursion.\n",
    "              Example: def factorial(n):\n",
    "                            if n == 0:\n",
    "                                return 1\n",
    "                            else:\n",
    "                                return n * factorial(n - 1)\n",
    "                        print(factorial(5))  # Output: 120\n",
    "          8. Method (Function as Part of a Class):Functions can also be defined inside a class and are called methods. These functions                                                         usually operate on the object's state.\n",
    "             Example:class Person:\n",
    "                        def __init__(self, name):\n",
    "                            self.name = name\n",
    "                        def greet(self):\n",
    "                            return f\"Hello, my name is {self.name}\"\n",
    "                    p = Person(\"Alice\")\n",
    "                    print(p.greet())  # Output: Hello, my name is Alice"
   ]
  },
  {
   "cell_type": "markdown",
   "id": "40f6979d-4da1-4967-8779-e36ab40d538d",
   "metadata": {},
   "source": [
    "#4.What is the purpose of the 'return' statement in a Python function?\n",
    "   ->The return statement in a Python function serves several important purposes:\n",
    "     1.Returning a Value from a Function.\n",
    "        Example:def add(a, b):\n",
    "                   return a + b\n",
    "                result = add(3, 5)  # The value 8 is returned by the function\n",
    "                print(result)  # Output: 8\n",
    "      2.Ending the Function Execution:\n",
    "         Example: def check_positive(number):\n",
    "                    if number < 0:\n",
    "                        return \"Negative number\"  # Function exits here\n",
    "                    return \"Positive number\"\n",
    "                print(check_positive(-5))  # Output: Negative number\n",
    "                print(check_positive(7))   # Output: Positive number\n",
    "      3.Returning None (Default Behavior):If no return statement is provided in a function, Python automatically returns None.\n",
    "         Example: def do_nothing():\n",
    "                    pass  # No return statement\n",
    "                result = do_nothing()\n",
    "                print(result)  # Output: None\n",
    "      4.You can return multiple values from a function using a single return statement. Python will automatically pack them into a tuple,            which can be unpacked later.\n",
    "        Example: def get_coordinates():\n",
    "                    return 5, 10\n",
    "                x, y = get_coordinates()  # Unpacking the returned tuple\n",
    "                print(x, y)  # Output: 5 10\n",
    "      5.You can also return a function from another function. \n",
    "        Example: def multiplier(factor):\n",
    "                    def multiply(x):\n",
    "                        return x * factor\n",
    "                    return multiply\n",
    "                double = multiplier(2)  # `double` is now a function that doubles its input\n",
    "                print(double(5))  # Output: 10"
   ]
  },
  {
   "cell_type": "markdown",
   "id": "11492f4d-51bf-4c4f-904e-fe47fc4f3226",
   "metadata": {},
   "source": [
    "#5.What are iterators in Python and how do they differ from iterables?\n",
    "   ->Iterator:An iterator is an object that represents a stream of data, which can be iterated (looped) over. It is the actual object that                 produces values from an iterable, one at a time. An iterator must implement two methods:\n",
    "              1.__iter__() : This method returns the iterator object itself. It's required to make an object an iterator.\n",
    "              2.__next__() : This method returns the next value from the iterator. If there are no more values, it raises a StopIteration                                 exception to signal the end of iteration.\n",
    "     Iterators are differ from iterables in different ways:\n",
    "     1.Iterators are used for actual iteration to get values one at a time where as iterables are used when you want to create an iterator          or loop through a collection (e.g., with a for loop).\n",
    "     2.Iterators typically doesn't hold all values in memory and computes values on the fly (e.g., range iterator).On the other hand                iterable Can be a collection that holds all its data in memory (e.g., a list). \n",
    "     3.Iteratorts maintains state (current position) during iteration but iterables does not maintain any state regarding iteration.\n",
    "     Example: my_list = [1, 2, 3]\n",
    "                iterator = iter(my_list)\n",
    "                print(next(iterator))  # Output: 1\n",
    "                print(next(iterator))  # Output: 2\n",
    "                print(next(iterator))  # Output: 3\n",
    "                # The next call will raise StopIteration because there are no more elements"
   ]
  },
  {
   "cell_type": "markdown",
   "id": "ed0aab35-facd-4f91-9607-2e40c5933cef",
   "metadata": {},
   "source": [
    "#6.Explain the concept of generators in Python and how they are defined.\n",
    "   ->A generator is a type of iterable in Python that allows you to iterate over a sequence of values lazily ,i.e. values are generated on        the fly as needed, instead of all at once. This makes generators more memory efficient than other data structures like lists,                especially for large datasets or infinite sequences.\n",
    "     Generators can be created in two ways:\n",
    "     1.Using generator functions (with the yield keyword):A generator function is defined like a regular function, but instead of using             return, it uses the yield keyword to return values one at a time. When yield is encountered, the state of the function is saved, and         the value is returned to the caller. The function can later resume from where it left off when next() is called.\n",
    "       Example: def count_up_to(max):\n",
    "                    count = 1\n",
    "                    while count <= max:\n",
    "                        yield count  # Yield returns a value and pauses the function\n",
    "                        count += 1\n",
    "                # Create a generator\n",
    "                counter = count_up_to(3)\n",
    "                # Use the generator to iterate over values\n",
    "                print(next(counter))  # Output: 1\n",
    "                print(next(counter))  # Output: 2\n",
    "                print(next(counter))  # Output: 3\n",
    "                # The next call will raise StopIteration because the generator is exhausted\n",
    "      2.Using generator expressions (a shorthand similar to list comprehensions):Generator expressions are similar to list comprehensions,           but instead of creating a full list in memory, they create an iterator that yields values one at a time.\n",
    "         Example: squares = (x * x for x in range(5))  # Generator expression\n",
    "                    # Use the generator to iterate over values\n",
    "                    print(next(squares))  # Output: 0\n",
    "                    print(next(squares))  # Output: 1\n",
    "                    print(next(squares))  # Output: 4\n",
    "                    print(next(squares))  # Output: 9\n",
    "                    print(next(squares))  # Output: 16"
   ]
  },
  {
   "cell_type": "markdown",
   "id": "de4fb06f-98c7-46fc-9d2a-ec4f0eaa4e89",
   "metadata": {},
   "source": [
    "#7.What are the advantages of using generators over regular functions?\n",
    "   -> The advantages are:\n",
    "      1.Memory Efficiency: Only one item is stored in memory at a time.\n",
    "      2.Lazy Evaluation: Values are computed on demand, making them ideal for large datasets or infinite sequences.\n",
    "      3.Performance: Reduces unnecessary computations by yielding only what's needed.\n",
    "      4.Cleaner Code: Generators simplify the code when dealing with iterative processes.\n",
    "      5.Infinite Sequences: Can handle infinite sequences efficiently, as values are generated one by one.\n",
    "      6.State Preservation: Automatically tracks the state of iteration, making it ideal for complex iteration tasks.\n",
    "        Example: def read_file(file_path):\n",
    "                    with open(file_path, 'r') as file:\n",
    "                        for line in file:\n",
    "                            yield line  # Yield one line at a time, instead of reading all at once\n",
    "                 for line in read_file(\"large_file.txt\"):\n",
    "                    process(line)  # Process each line individually\n"
   ]
  },
  {
   "cell_type": "markdown",
   "id": "186c51d3-01fc-4ab1-acc8-d8563c57487d",
   "metadata": {},
   "source": [
    "#8. What is a lambda function in Python and when is it typically used?\n",
    "    -> A lambda function in Python is a small, anonymous function defined using the lambda keyword. It allows you to write a function in a          compact form, especially when the function is simple and you need it only temporarily or for a short period.\n",
    "       Example: # A lambda function that adds two numbers\n",
    "                add = lambda x, y: x + y\n",
    "                result = add(3, 5)  # Output: 8\n",
    "                print(result)\n",
    "       Lambda functions are commonly used in situations where you need a short, simple function, often as an argument to other functions.           Here are some typical use cases:\n",
    "       1.As an Argument to Higher-Order Functions.\n",
    "       2.Inline Function Definitions.\n",
    "       3.In Data Structures.\n",
    "       4. With reduce() from functools."
   ]
  },
  {
   "cell_type": "markdown",
   "id": "e8f2a100-4b92-4487-8986-ffaf021e7fd3",
   "metadata": {},
   "source": [
    "#9. Explain the purpose and usage of the 'map()' function in Python.\n",
    "    -> The map() function is a powerful tool in Python for applying a function to all items in an iterable (or multiple iterables). It is           concise, efficient, and works well for tasks that involve transforming or processing elements in a collection. It is especially              useful when you need to apply a function without explicitly writing a loop. Keep in mind that map() returns an iterator, so if you           need a list or another data structure, you should convert it using list(), tuple(), etc.\n",
    "       The use of map():\n",
    "       1.When you need to apply a function to each item in an iterable: For example, transforming data, cleaning or normalizing values, etc.\n",
    "       2.For functional programming paradigms: map() is often used when working with functional programming techniques, where functions are                                                 treated as first-class objects.\n",
    "       3.When working with multiple iterables: If you need to process multiple iterables in parallel, map() is a convenient way to handle                                                   this.\n",
    "       Example: # Function to double a number\n",
    "                    def double(x):\n",
    "                        return x * 2\n",
    "                    # List of numbers\n",
    "                    numbers = [1, 2, 3, 4, 5]\n",
    "                    # Using map() to apply the double function to each item in the list\n",
    "                    doubled_numbers = map(double, numbers)\n",
    "                    # Convert the result to a list and print\n",
    "                    print(list(doubled_numbers))  # Output: [2, 4, 6, 8, 10]\n"
   ]
  },
  {
   "cell_type": "markdown",
   "id": "1d84c4e7-b185-4c87-b36d-e7252a48362f",
   "metadata": {},
   "source": [
    "#10.What is the difference between 'map()', 'reduce()', and 'filter()' functions in Python?\n",
    "    -> 1-map() is used when you want to transform each item in an iterable using a function.\n",
    "         Example:numbers = [1, 2, 3, 4]\n",
    "                doubled_numbers = map(lambda x: x * 2, numbers)\n",
    "                print(list(doubled_numbers))  # Output: [2, 4, 6, 8]\n",
    "       2-reduce() is used when you need to accumulate or combine all items in an iterable into a single result.\n",
    "          Example: from functools import reduce\n",
    "                    numbers = [1, 2, 3, 4]\n",
    "                    result = reduce(lambda x, y: x + y, numbers)\n",
    "                    print(result)  # Output: 10 (1 + 2 + 3 + 4)\n",
    "       3-filter() is used when you want to filter elements based on a condition, keeping only those that satisfy the condition.\n",
    "           Example: numbers = [1, 2, 3, 4, 5]\n",
    "                    even_numbers = filter(lambda x: x % 2 == 0, numbers)\n",
    "                    print(list(even_numbers))  # Output: [2, 4]"
   ]
  },
  {
   "cell_type": "markdown",
   "id": "8d4fb698-e85b-45b9-b419-8f7d443149f2",
   "metadata": {},
   "source": [
    "#Practical Questions:-"
   ]
  },
  {
   "cell_type": "code",
   "execution_count": 11,
   "id": "51860ffa-18eb-440b-bf48-9036fb0bc004",
   "metadata": {},
   "outputs": [
    {
     "name": "stdout",
     "output_type": "stream",
     "text": [
      "Sum of even numbers: 20\n"
     ]
    }
   ],
   "source": [
    "\"\"\"1.Write a Python function that takes a list of numbers as input and returns the sum of all even numbers in \n",
    "     the list\"\"\"\n",
    "def sum_of_even_numbers(numbers):\n",
    "    even_numbers = filter(lambda x: x % 2 == 0, numbers)\n",
    "    return sum(even_numbers)\n",
    "numbers = [1, 2, 3, 4, 5, 6, 7, 8]\n",
    "result = sum_of_even_numbers(numbers)\n",
    "print(\"Sum of even numbers:\", result) "
   ]
  },
  {
   "cell_type": "code",
   "execution_count": 13,
   "id": "1610b3fb-20a6-4210-af04-3277654b5fdb",
   "metadata": {},
   "outputs": [
    {
     "name": "stdout",
     "output_type": "stream",
     "text": [
      "Reversed string: olleh\n"
     ]
    }
   ],
   "source": [
    "\"\"\"2.Create a Python function that accepts a string and returns the reverse of that string.\"\"\"\n",
    "def reverse_string(s):\n",
    "    return s[::-1]\n",
    "input_string = \"hello\"\n",
    "reversed_string = reverse_string(input_string)\n",
    "print(\"Reversed string:\", reversed_string) \n"
   ]
  },
  {
   "cell_type": "code",
   "execution_count": 15,
   "id": "1e8e06c9-88d2-4789-a625-eafae3669258",
   "metadata": {},
   "outputs": [
    {
     "name": "stdout",
     "output_type": "stream",
     "text": [
      "Squared numbers: [1, 4, 9, 16, 25]\n"
     ]
    }
   ],
   "source": [
    "\"\"\"3. Implement a Python function that takes a list of integers and returns a new list containing the squares of \n",
    "each number.\"\"\"\n",
    "def square_numbers(numbers):\n",
    "    return [x ** 2 for x in numbers]\n",
    "    \n",
    "input_list = [1, 2, 3, 4, 5]\n",
    "squared_list = square_numbers(input_list)\n",
    "print(\"Squared numbers:\", squared_list) "
   ]
  },
  {
   "cell_type": "code",
   "execution_count": 17,
   "id": "51e043c7-d077-43ab-9dd1-4b26628f4efa",
   "metadata": {},
   "outputs": [
    {
     "name": "stdout",
     "output_type": "stream",
     "text": [
      "2\n",
      "3\n",
      "5\n",
      "7\n",
      "11\n",
      "13\n",
      "17\n",
      "19\n",
      "23\n",
      "29\n",
      "31\n",
      "37\n",
      "41\n",
      "43\n",
      "47\n",
      "53\n",
      "59\n",
      "61\n",
      "67\n",
      "71\n",
      "73\n",
      "79\n",
      "83\n",
      "89\n",
      "97\n",
      "101\n",
      "103\n",
      "107\n",
      "109\n",
      "113\n",
      "127\n",
      "131\n",
      "137\n",
      "139\n",
      "149\n",
      "151\n",
      "157\n",
      "163\n",
      "167\n",
      "173\n",
      "179\n",
      "181\n",
      "191\n",
      "193\n",
      "197\n",
      "199\n"
     ]
    }
   ],
   "source": [
    "\"\"\"4. Write a Python function that checks if a given number is prime or not from 1 to 200.\"\"\"\n",
    "def is_prime(num):\n",
    "    if num < 2:\n",
    "        return False\n",
    "    for i in range(2, int(num**0.5) + 1):\n",
    "        if num % i == 0:\n",
    "            return False  \n",
    "    return True \n",
    "for number in range(1, 201):\n",
    "    if is_prime(number):\n",
    "        print(number)\n",
    "\n"
   ]
  },
  {
   "cell_type": "code",
   "execution_count": 19,
   "id": "0906957a-e9db-41b2-9dee-910b0a2fac52",
   "metadata": {},
   "outputs": [
    {
     "name": "stdout",
     "output_type": "stream",
     "text": [
      "0\n",
      "1\n",
      "1\n",
      "2\n",
      "3\n",
      "5\n",
      "8\n",
      "13\n",
      "21\n",
      "34\n"
     ]
    }
   ],
   "source": [
    "\"\"\"#5. Create an iterator class in Python that generates the Fibonacci sequence up to a specified number of \n",
    "terms.\"\"\"\n",
    "class FibonacciIterator:\n",
    "    def __init__(self, terms):\n",
    "        self.terms = terms  \n",
    "        self.a, self.b = 0, 1  \n",
    "        self.count = 0  \n",
    "\n",
    "    def __iter__(self):\n",
    "        return self  \n",
    "\n",
    "    def __next__(self):\n",
    "        if self.count < self.terms:\n",
    "            fib_number = self.a\n",
    "            self.a, self.b = self.b, self.a + self.b \n",
    "            self.count += 1\n",
    "            return fib_number\n",
    "        else:\n",
    "            raise StopIteration\n",
    "\n",
    "fib = FibonacciIterator(10) \n",
    "for num in fib:\n",
    "    print(num)\n"
   ]
  },
  {
   "cell_type": "code",
   "execution_count": 21,
   "id": "a68390f5-ddde-4a77-bfec-277ab97454f0",
   "metadata": {},
   "outputs": [
    {
     "name": "stdout",
     "output_type": "stream",
     "text": [
      "1\n",
      "2\n",
      "4\n",
      "8\n",
      "16\n",
      "32\n"
     ]
    }
   ],
   "source": [
    "\"\"\"#6.Write a generator function in Python that yields the powers of 2 up to a given exponent.\"\"\"\n",
    "def powers_of_2(exponent):\n",
    "    for i in range(exponent + 1):  \n",
    "        yield 2 ** i\n",
    "\n",
    "for power in powers_of_2(5):  \n",
    "    print(power)\n"
   ]
  },
  {
   "cell_type": "code",
   "execution_count": 29,
   "id": "32abc56b-96e6-43ad-aa8c-46aecc6972ff",
   "metadata": {},
   "outputs": [
    {
     "name": "stdout",
     "output_type": "stream",
     "text": [
      "hi everyone\n",
      "we are learning file I/O\n",
      "using Python\n",
      "I like programming in Python.\n"
     ]
    }
   ],
   "source": [
    "\"\"\"#7. Implement a generator function that reads a file line by line and yields each line as a string.\"\"\"\n",
    "def read_file_line_by_line(file_path):\n",
    "    with open(file_path, 'r') as file:\n",
    "        for line in file:\n",
    "            yield line.strip()  \n",
    "\n",
    "file_path = 'C:\\\\Users\\\\aadit\\\\Documents\\\\Python\\\\practice.txt' \n",
    "for line in read_file_line_by_line(file_path):\n",
    "    print(line)\n"
   ]
  },
  {
   "cell_type": "code",
   "execution_count": 32,
   "id": "cc4037b7-4296-48a3-a3db-1744ff0905c3",
   "metadata": {},
   "outputs": [
    {
     "name": "stdout",
     "output_type": "stream",
     "text": [
      "[(3, 2), (1, 5), (2, 7), (5, 8)]\n"
     ]
    }
   ],
   "source": [
    "\"\"\"#8. Use a lambda function in Python to sort a list of tuples based on the second element of each tuple.\"\"\"\n",
    "tuples = [(1, 5), (3, 2), (5, 8), (2, 7)]\n",
    "sorted_tuples = sorted(tuples, key=lambda x: x[1])\n",
    "print(sorted_tuples)\n"
   ]
  },
  {
   "cell_type": "code",
   "execution_count": 34,
   "id": "6f377a33-953f-4a07-b7c2-e2f4c1ba43c0",
   "metadata": {},
   "outputs": [
    {
     "name": "stdout",
     "output_type": "stream",
     "text": [
      "[32.0, 68.0, 86.0, 104.0, 212.0]\n"
     ]
    }
   ],
   "source": [
    "\"\"\"#9.Write a Python program that uses `map()` to convert a list of temperatures from Celsius to Fahrenheit\"\"\"\n",
    "celsius_temperatures = [0, 20, 30, 40, 100]\n",
    "def celsius_to_fahrenheit(celsius):\n",
    "    return (celsius * 9/5) + 32\n",
    "fahrenheit_temperatures = map(celsius_to_fahrenheit, celsius_temperatures)\n",
    "print(list(fahrenheit_temperatures))\n"
   ]
  },
  {
   "cell_type": "code",
   "execution_count": 37,
   "id": "bd085580-c428-44ec-9415-b4f989dcb418",
   "metadata": {},
   "outputs": [
    {
     "name": "stdout",
     "output_type": "stream",
     "text": [
      "Hll Wrld!\n"
     ]
    }
   ],
   "source": [
    "\"\"\"#10. Create a Python program that uses `filter()` to remove all the vowels from a given string.\"\"\"\n",
    "def is_not_vowel(char):\n",
    "    return char.lower() not in 'aeiou'\n",
    "input_string = \"Hello World!\"\n",
    "filtered_string = ''.join(filter(is_not_vowel, input_string))\n",
    "print(filtered_string)\n"
   ]
  },
  {
   "cell_type": "code",
   "execution_count": 3,
   "id": "7b7a937a-c3a9-4d52-b417-7277c5c57f6c",
   "metadata": {},
   "outputs": [
    {
     "name": "stdout",
     "output_type": "stream",
     "text": [
      "[(34587, 163.8), (98762, 284.0), (77226, 108.85000000000001), (88112, 84.97)]\n"
     ]
    }
   ],
   "source": [
    "\"\"\"#11. Imagine an accounting routine used in a book shop. It works on a list with sublists, which look like this:\n",
    "Order Number     Book Title and Author             Quantity        Price per Item\n",
    " 34587            Learning Python,Mark Lutz           4               40.95\n",
    " 98762            Programming Python,Mark Lutz        5               56.80\n",
    " 77226            Head First Python,Paul Barry        3               32.95\n",
    " 88112            Einfuhrung in Python3,Bernd Klein   3               24.99\n",
    " Write a Python program, which returns a list with 2-tuples. Each tuple consists of the order number and the \n",
    "product of the price per item and the quantity. The product should be increased by 10,- € if the value of the \n",
    "order is smaller than 100,00 €.\n",
    " Write a Python program using lambda and map\"\"\"\n",
    "\n",
    "orders = [\n",
    "    [34587, \"Learning Python, Mark Lutz\", 4, 40.95],\n",
    "    [98762, \"Programming Python, Mark Lutz\", 5, 56.80],\n",
    "    [77226, \"Head First Python, Paul Barry\", 3, 32.95],\n",
    "    [88112, \"Einführung in Python3, Bernd Klein\", 3, 24.99]\n",
    "]\n",
    "result = list(map(\n",
    "    lambda x: (x[0], x[2] * x[3] if x[2] * x[3] >= 100 else x[2] * x[3] + 10),\n",
    "    orders\n",
    "))\n",
    "print(result)"
   ]
  },
  {
   "cell_type": "code",
   "execution_count": null,
   "id": "e3a93b5d-ddae-4b4d-a41e-b899343578a0",
   "metadata": {},
   "outputs": [],
   "source": []
  }
 ],
 "metadata": {
  "kernelspec": {
   "display_name": "Python 3 (ipykernel)",
   "language": "python",
   "name": "python3"
  },
  "language_info": {
   "codemirror_mode": {
    "name": "ipython",
    "version": 3
   },
   "file_extension": ".py",
   "mimetype": "text/x-python",
   "name": "python",
   "nbconvert_exporter": "python",
   "pygments_lexer": "ipython3",
   "version": "3.12.7"
  }
 },
 "nbformat": 4,
 "nbformat_minor": 5
}
